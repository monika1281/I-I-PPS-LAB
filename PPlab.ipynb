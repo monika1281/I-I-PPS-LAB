{
  "nbformat": 4,
  "nbformat_minor": 0,
  "metadata": {
    "colab": {
      "provenance": [],
      "authorship_tag": "ABX9TyPhP4KAAhoMC8x6Ej3rwCg6",
      "include_colab_link": true
    },
    "kernelspec": {
      "name": "python3",
      "display_name": "Python 3"
    },
    "language_info": {
      "name": "python"
    }
  },
  "cells": [
    {
      "cell_type": "markdown",
      "metadata": {
        "id": "view-in-github",
        "colab_type": "text"
      },
      "source": [
        "<a href=\"https://colab.research.google.com/github/monika1281/I-I-PPS-LAB/blob/lab-cycle/PPlab.ipynb\" target=\"_parent\"><img src=\"https://colab.research.google.com/assets/colab-badge.svg\" alt=\"Open In Colab\"/></a>"
      ]
    },
    {
      "cell_type": "code",
      "execution_count": null,
      "metadata": {
        "colab": {
          "base_uri": "https://localhost:8080/"
        },
        "id": "QrUoKItj0u5E",
        "outputId": "5a57ae24-1380-4be2-ae35-2e46ea40c3b6"
      },
      "outputs": [
        {
          "output_type": "stream",
          "name": "stdout",
          "text": [
            "Enter a small number:16\n",
            "Enter a large number:64\n",
            "GCD: 16\n"
          ]
        }
      ],
      "source": [
        "#Write a function called gcd that takes parameters a and b and returns their greatest common divisor.\n",
        "a=int(input(\"Enter a small number:\"))\n",
        "b=int(input(\"Enter a large number:\"))\n",
        "def gcd(a:int,b:int):\n",
        "  GCD=1\n",
        "  if a==1 and b!=0:\n",
        "    return 1\n",
        "  elif a>1 and b>1:\n",
        "    for i in range(2,a+1):\n",
        "      if a%i==0 and b%i==0:\n",
        "        GCD=i\n",
        "        #print(GCD)\n",
        "    return GCD\n",
        "check=gcd(a,b)\n",
        "print(\"GCD:\",check)\n"
      ]
    },
    {
      "cell_type": "code",
      "source": [
        "#Write a function called palindrome that takes a string argument and returns True if it is a palindrome and False otherwise.\n",
        "#Remember that you can use the built-in function len to check the length of a string.\n",
        "str1=input(\"Enter a string to check if it is a palindrome:\")\n",
        "l=len(str1)\n",
        "print(l)\n",
        "def palindrome(str1:str,l:int):\n",
        "  for i in range(0,(l//2)+1):\n",
        "    if str1[i]!=str1[len(str1)-1-i]:\n",
        "      return False\n",
        "  return True\n",
        "\n",
        "check1=palindrome(str1,l)\n",
        "print(check1) \n"
      ],
      "metadata": {
        "colab": {
          "base_uri": "https://localhost:8080/"
        },
        "id": "DUi1jrTV3_Vj",
        "outputId": "69e98909-810c-4a3b-8334-fc25e8f9ddac"
      },
      "execution_count": null,
      "outputs": [
        {
          "output_type": "stream",
          "name": "stdout",
          "text": [
            "Enter a string to check if it is a palindrome:malayalam\n",
            "9\n",
            "True\n"
          ]
        }
      ]
    },
    {
      "cell_type": "code",
      "source": [
        "#Write a function called palindrome that takes a string argument and returns True if it is a palindrome and False otherwise.\n",
        "#Remember that you can use the built-in function len to check the length of a string.\n",
        "str1=input(\"Enter a string to check if it is a palindrome:\")\n",
        "l=len(str1)\n",
        "def palindrome(str1:str,l:int):\n",
        "  if str1==str1[::-1]:\n",
        "    return True\n",
        "  else:\n",
        "    return False\n",
        "\n",
        "check1=palindrome(str1,l)\n",
        "print(check1) \n"
      ],
      "metadata": {
        "colab": {
          "base_uri": "https://localhost:8080/"
        },
        "id": "KQLE7Quk-Hf7",
        "outputId": "e2c10740-93b9-470b-b711-0e6065762c00"
      },
      "execution_count": null,
      "outputs": [
        {
          "output_type": "stream",
          "name": "stdout",
          "text": [
            "Enter a string to check if it is a palindrome:madam\n",
            "True\n"
          ]
        }
      ]
    },
    {
      "cell_type": "code",
      "source": [
        "#Write a function called is_sorted that takes a list as a parameter and \n",
        "#returns True if the list is sorted in ascending order and False otherwise.\n",
        "list1=[]\n",
        "list1=input(\"Enter list values:\").split(\" \")\n",
        "print(list1)\n",
        "def is_sorted(list1:list) :\n",
        "  if sorted(list1)==list1:\n",
        "    return True\n",
        "  else:\n",
        "    return False\n",
        "\n",
        "\n",
        "check3=is_sorted(list1)\n",
        "print(check3)\n",
        "\n"
      ],
      "metadata": {
        "colab": {
          "base_uri": "https://localhost:8080/"
        },
        "id": "1UPwppqBE-gi",
        "outputId": "af0a1b8f-283e-4313-e0a9-d6573777ebb6"
      },
      "execution_count": null,
      "outputs": [
        {
          "output_type": "stream",
          "name": "stdout",
          "text": [
            "Enter list values:2 1 3 4\n",
            "['2', '1', '3', '4']\n",
            "False\n"
          ]
        }
      ]
    },
    {
      "cell_type": "code",
      "source": [
        "#Write a function called has_duplicates that takes a list and\n",
        "# returns True if there is any element that appears more than once.\n",
        "# It should not modify the original list.\n",
        "list2=[]\n",
        "list2=input(\"Enter list values:\").split(\" \")\n",
        "print(list2)\n",
        "list3=list(set(list2))\n",
        "print(list3)\n",
        "def duplicates(list2,list3):\n",
        "  if len(list2)==len(list3):\n",
        "    return False\n",
        "  else:\n",
        "    return True\n",
        "\n",
        "condition=duplicates(list2,list3)\n",
        "print(condition)"
      ],
      "metadata": {
        "colab": {
          "base_uri": "https://localhost:8080/"
        },
        "id": "nRnIRymIIZQd",
        "outputId": "de14fc77-b360-4083-fb82-45d2c5a1f45b"
      },
      "execution_count": null,
      "outputs": [
        {
          "output_type": "stream",
          "name": "stdout",
          "text": [
            "Enter list values:1 2 3 4 1\n",
            "['1', '2', '3', '4', '1']\n",
            "['3', '4', '2', '1']\n",
            "True\n"
          ]
        }
      ]
    },
    {
      "cell_type": "code",
      "source": [
        "#Write a function called remove_duplicates that takes a list and returns a new list with only the unique elements from the original. \n",
        "#Hint: they don’t have to be in the same order.\n",
        "list4=[]\n",
        "result1=[]\n",
        "list4=input(\"Enter list values:\").split(\" \")\n",
        "#print(list4)\n",
        "def remove_dublicates(list4:list,result1:list):\n",
        "  list5=list(set(list4))\n",
        "  for i in list5:\n",
        "    result1.append(int(i)) \n",
        "  return result1\n",
        "\n",
        "result1=remove_dublicates(list4,result1)\n",
        "print(result1)"
      ],
      "metadata": {
        "colab": {
          "base_uri": "https://localhost:8080/"
        },
        "id": "EIkV1vdgMpCO",
        "outputId": "56ba049d-3e86-49e4-9576-be839f3fb52a"
      },
      "execution_count": null,
      "outputs": [
        {
          "output_type": "stream",
          "name": "stdout",
          "text": [
            "Enter list values:1 2 3 4 1\n",
            "[3, 2, 4, 1]\n"
          ]
        }
      ]
    },
    {
      "cell_type": "code",
      "source": [
        "#Write a python code to read dictionary values from the user.\n",
        "#Construct a function to invert its content. i.e., keys should be values and values should be keys.\n",
        "n = int(input(\"enter the range of the dictionary:\"))\n",
        "d = {}\n",
        "e={}\n",
        "print(\"first enter a key element, then the value of that key:\")\n",
        "def change(d:dict,e:dict):\n",
        "  for i in range(n):    \n",
        "    key= input() # here i have taken keys as strings\n",
        "    value = input() # here i have taken values as integers\n",
        "    d[key] = value\n",
        "  print(\"original Dict:\",d) \n",
        "  e=dict([(value,key) for key,value in d.items()])\n",
        "  return e\n",
        "\n",
        "new_dict=change(d,e)\n",
        "print(\"New Dict:\",new_dict)\n"
      ],
      "metadata": {
        "colab": {
          "base_uri": "https://localhost:8080/"
        },
        "id": "UTnGISfL8Tva",
        "outputId": "556dc95a-b851-4c28-e608-91275906a986"
      },
      "execution_count": null,
      "outputs": [
        {
          "output_type": "stream",
          "name": "stdout",
          "text": [
            "enter the range of the dictionary:1\n",
            "first enter a key element, then the value of that key:\n",
            "monika \n",
            "name\n",
            "original Dict: {'monika ': 'name'}\n",
            "New Dict: {'name': 'monika '}\n"
          ]
        }
      ]
    },
    {
      "cell_type": "code",
      "source": [
        "#3. i) Add a comma between the characters. \n",
        "#If the given word is &#39;Apple&#39;, it should become &#39;A,p,p,l,e&#39;\n",
        "str1=input(\"Enter a string:\")\n",
        "new=str()\n",
        "temp='abcdefghijklmnopqrstuvwzyzABCDEFGHIJKLMNOPQRSTUVWXYZ'\n",
        "def sep_char(str1,new,temp):\n",
        "  for i in str1:\n",
        "    if i in temp:\n",
        "      new+=i+\",\"             \n",
        "    else:\n",
        "      new+=i\n",
        "  return new \n",
        "res=sep_char(str1,new,temp)\n",
        "print(res)\n",
        "\n"
      ],
      "metadata": {
        "colab": {
          "base_uri": "https://localhost:8080/"
        },
        "id": "H4fL-cLNhWzu",
        "outputId": "4d284d97-3134-45d4-ffa8-dd05af1aa70d"
      },
      "execution_count": null,
      "outputs": [
        {
          "output_type": "stream",
          "name": "stdout",
          "text": [
            "Enter a string:&#39;Apple&#39;\n",
            "&#39;A,p,p,l,e,&#39;\n"
          ]
        }
      ]
    },
    {
      "cell_type": "code",
      "source": [
        "#Add a comma between the characters. If the given word is &#39;Apple&#39;, it should become &#39;A,p,p,l,e&#39;\n",
        "#Add a comma between the characters. If the given word is 'Apple', it should become 'A,p,p,l,e'\n",
        "str1=input(\"enter a string:\")\n",
        "str2=(\",\").join(str1)\n",
        "print(str2)\n"
      ],
      "metadata": {
        "id": "sZHfR4zMuMoF",
        "colab": {
          "base_uri": "https://localhost:8080/"
        },
        "outputId": "d52b5566-f3b8-4a11-bbdf-2d0c96645e01"
      },
      "execution_count": null,
      "outputs": [
        {
          "output_type": "stream",
          "name": "stdout",
          "text": [
            "enter a string:Apple\n",
            "A,p,p,l,e\n"
          ]
        }
      ]
    },
    {
      "cell_type": "code",
      "source": [
        "#Remove the given word in all the places in a string?\n",
        "phrase=input(\"Enter a string:\")\n",
        "word=input(\"Enter a word:\")\n",
        "if word in phrase:\n",
        "  new=phrase.replace(word,\"\")\n",
        "  print(new)\n",
        "\n",
        "  #phrase.pop(word)\n",
        "else:\n",
        "  print(\"word is not present in the given string\")\n"
      ],
      "metadata": {
        "id": "C52PDUQ9J4dJ",
        "outputId": "b07b76f3-6fa2-4d43-a154-7bdee2557264",
        "colab": {
          "base_uri": "https://localhost:8080/"
        }
      },
      "execution_count": null,
      "outputs": [
        {
          "output_type": "stream",
          "name": "stdout",
          "text": [
            "Enter a string:monika agarwal\n",
            "Enter a word:aga\n",
            "monika rwal\n"
          ]
        }
      ]
    },
    {
      "cell_type": "code",
      "source": [
        "#Remove the given word in all the places in a string?\n",
        "phrase=input(\"Enter a string:\").split()\n",
        "word=input(\"Enter a word:\")\n",
        "phrase3=phrase\n",
        "phrase2=str()\n",
        "def remove_word(phrase3,phrase,phrase2):\n",
        "  for i in phrase:\n",
        "    if i==word:\n",
        "      phrase3.remove(word)\n",
        "      for i in phrase3:\n",
        "        phrase2+=i+\" \"\n",
        "    #phrase2=\" \".join(phrase3)\n",
        "  return phrase2\n",
        "  \n",
        "res=remove_word(phrase3,phrase,phrase2)\n",
        "print(res)"
      ],
      "metadata": {
        "colab": {
          "base_uri": "https://localhost:8080/"
        },
        "id": "G7oBIAPtazMd",
        "outputId": "8c6fd8ba-3b9d-40f2-bd21-4151bc61976f"
      },
      "execution_count": null,
      "outputs": [
        {
          "output_type": "stream",
          "name": "stdout",
          "text": [
            "Enter a string:my name is monika\n",
            "Enter a word:is\n",
            "my name monika \n"
          ]
        }
      ]
    },
    {
      "cell_type": "code",
      "source": [
        "#Write a function that takes a sentence as an input parameter and replaces the first letter of every word with the corresponding upper case letter\n",
        "# and the rest of the letters in the word by corresponding letters in lower case without using a built-in function?\n",
        "string=input(\"Enter a string:\")\n",
        "str2=str()\n",
        "def title_str(string,str2):\n",
        "  for i in range(0,len(string)):\n",
        "    if i==0:\n",
        "      str2+=string[i].upper()\n",
        "    elif string[i]!=\" \":\n",
        "      str2+=string[i].lower()      \n",
        "    elif string[i]==\" \":\n",
        "      str2+=string[i+1].upper()\n",
        "  return str2\n",
        "\n",
        "res=title_str(string,str2)\n",
        "print(res)"
      ],
      "metadata": {
        "id": "mpMthcoKNJT9",
        "outputId": "f5c3e409-eb9c-482a-f76e-784d14715cb3",
        "colab": {
          "base_uri": "https://localhost:8080/"
        }
      },
      "execution_count": null,
      "outputs": [
        {
          "output_type": "stream",
          "name": "stdout",
          "text": [
            "Enter a string:monika agarwal\n",
            "MonikaAagarwal\n"
          ]
        }
      ]
    },
    {
      "cell_type": "code",
      "source": [
        "#Write a function that takes a sentence as an input parameter and replaces the first letter of every word with the corresponding upper case letter\n",
        "# and the rest of the letters in the word by corresponding letters in lower case without using a built-in function?\n",
        "string=input(\"Enter a string:\")\n",
        "str2=string.title()\n",
        "print(str2)\n"
      ],
      "metadata": {
        "colab": {
          "base_uri": "https://localhost:8080/"
        },
        "id": "4KTmRr1xf6zI",
        "outputId": "72285b55-54de-431f-9c4d-d6f72f072a85"
      },
      "execution_count": null,
      "outputs": [
        {
          "output_type": "stream",
          "name": "stdout",
          "text": [
            "Enter a string:monika\n",
            "Monika\n"
          ]
        }
      ]
    },
    {
      "cell_type": "code",
      "source": [
        "#Writes a recursive function that generates all binary strings of n-bit length\n",
        "def genbin(n, bs=''):\n",
        "  if len(bs) == n:\n",
        "    print(bs)\n",
        "  else:\n",
        "    genbin(n, bs + '0')\n",
        "    genbin(n, bs + '1')\n",
        "\n",
        "n=int(input(\"Enter a number:\"))\n",
        "bs=''\n",
        "genbin(n,bs)"
      ],
      "metadata": {
        "colab": {
          "base_uri": "https://localhost:8080/"
        },
        "id": "D5KuOfLApQHj",
        "outputId": "f1463a59-7689-4863-8bf0-1d692c3c890d"
      },
      "execution_count": null,
      "outputs": [
        {
          "output_type": "stream",
          "name": "stdout",
          "text": [
            "Enter a number:3\n",
            "000\n",
            "001\n",
            "010\n",
            "011\n",
            "100\n",
            "101\n",
            "110\n",
            "111\n"
          ]
        }
      ]
    },
    {
      "cell_type": "code",
      "source": [],
      "metadata": {
        "id": "1Pr3y8tvsrAs"
      },
      "execution_count": null,
      "outputs": []
    }
  ]
}